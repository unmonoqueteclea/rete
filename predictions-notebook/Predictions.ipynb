{
 "cells": [
  {
   "cell_type": "markdown",
   "metadata": {},
   "source": [
    "# Detección Automática de RD y DMAE\n",
    "\n",
    "La **Retinopatía Diabética** y la **Degeneración Macular Asociada a la Edad**\n",
    "son dos de las principales causas de ceguera en todo el mundo. Sin\n",
    "embargo, ambas enfermedades pueden ser tratadas y sus efectos\n",
    "minimizados si son detectadas a tiempo. El sistema usado actualmente en los servicios de salud, basado en\n",
    "la revisión manual de expertos, no es viable ante el crecimiento\n",
    "imparable de ambas enfermedades. \n",
    "\n",
    "\n",
    "Por ello, este programa utiliza un **método automático de detección** de ambas patologías en imágenes de fondo de ojo mediante\n",
    "**Redes Neuronales Convolucionales**. Además, mediante el uso de la técnica **Grad-Cam** es posible obtener un mapa de calor con las partes de la imagen que más han influido a los modelos a la hora de realizar su predicción, información que será de gran utillidad a los especialistas para realizar el diagnóstico.\n",
    "\n",
    "<img src=\"img/eidon.jpg\" width=350px/>\n",
    "\n",
    "El usuario puede elegir entre dos sistemas:\n",
    "\n",
    "- **Sistema 1: Clasificador Multietapa**: Este sistema realiza la detección en dos pasos:\n",
    "    - Un primer clasificador es capaz de distinguir entre **retinas sanas y enfermas** (sin distinguir entre DR o DMAE)\n",
    "    - A partir de las retinas detectadas como enfermas, un segundo clasificador distingue entre **DR y DMAE**\n",
    "- **Sistema 2: Ensemble de Clasificadores**: Este sistema utiliza un ensemble formado por 3 modelos distintos capaces de distinguir entre DR, DMAE y retinas sanas"
   ]
  },
  {
   "cell_type": "markdown",
   "metadata": {},
   "source": [
    "## Configuración\n",
    "- Importando librerías"
   ]
  },
  {
   "cell_type": "code",
   "execution_count": 1,
   "metadata": {},
   "outputs": [],
   "source": [
    "%%capture\n",
    "import os\n",
    "import matplotlib.pyplot as plt\n",
    "import matplotlib.cm as cm\n",
    "from ipywidgets import interact, Dropdown\n",
    "from keras.models import model_from_json\n",
    "from keras.optimizers import Adam\n",
    "from keras.preprocessing.image import ImageDataGenerator\n",
    "import numpy as np\n",
    "from vis.visualization import visualize_cam"
   ]
  },
  {
   "cell_type": "markdown",
   "metadata": {},
   "source": [
    "- Cargando un modelo entrenado previamente"
   ]
  },
  {
   "cell_type": "code",
   "execution_count": 2,
   "metadata": {},
   "outputs": [],
   "source": [
    "def load_model(model_dir, binary=False):\n",
    "    model_loss = 'binary_crossentropy' if binary else 'categorical_crossentropy'\n",
    "    json_file = open(model_dir+\".json\", 'r')\n",
    "    loaded_model_json = json_file.read()\n",
    "    loaded_model = model_from_json(loaded_model_json)\n",
    "    json_file.close()\n",
    "    loaded_model.load_weights(model_dir + \".h5\")\n",
    "    loaded_model.compile(loss=model_loss, optimizer=Adam(lr=1e-5))    \n",
    "    return loaded_model"
   ]
  },
  {
   "cell_type": "markdown",
   "metadata": {},
   "source": [
    "- Cargando la lista de pacientes"
   ]
  },
  {
   "cell_type": "code",
   "execution_count": 3,
   "metadata": {},
   "outputs": [],
   "source": [
    "def get_patients(PATIENTS_DIR):\n",
    "    full_patients = [os.path.join(PATIENTS_DIR, f) for f in os.listdir(PATIENTS_DIR)\n",
    "                     if (not os.path.isfile(os.path.join(PATIENTS_DIR, f)) and \n",
    "                        f[-5:] != \"Store\")]\n",
    "    return [p.split(\"/\")[-1] for p in full_patients]"
   ]
  },
  {
   "cell_type": "markdown",
   "metadata": {},
   "source": [
    "- Cargando todas las imágenes de un paciente"
   ]
  },
  {
   "cell_type": "code",
   "execution_count": 4,
   "metadata": {},
   "outputs": [],
   "source": [
    "def load_patient(patient, PATIENTS_DIR):\n",
    "    print(\" - Cargando paciente: \" + patient )\n",
    "    full_patients = [os.path.join(PATIENTS_DIR, f) for f in os.listdir(PATIENTS_DIR)\n",
    "                     if (not os.path.isfile(os.path.join(PATIENTS_DIR, f)) and f[-5:] != \"Store\")]\n",
    "    patient = [p for p in full_patients if patient in p][0]\n",
    "    test_datagen = ImageDataGenerator(rescale=1./255)\n",
    "    test_generator = test_datagen.flow_from_directory(patient,\n",
    "                                                      target_size=(224,224),\n",
    "                                                      batch_size=1,\n",
    "                                                      class_mode=None,\n",
    "                                                      shuffle=False)\n",
    "    return test_generator"
   ]
  },
  {
   "cell_type": "markdown",
   "metadata": {},
   "source": [
    "- Realizando la predicción a partir de un conjunto de imágenes y el modelo"
   ]
  },
  {
   "cell_type": "code",
   "execution_count": 5,
   "metadata": {},
   "outputs": [],
   "source": [
    "def load_predictions(model, generator):\n",
    "    Y_pred = model.predict_generator(generator, steps = 1, verbose=0)\n",
    "    return Y_pred"
   ]
  },
  {
   "cell_type": "markdown",
   "metadata": {},
   "source": [
    "- Obteniendo toda la información sobre la predicción"
   ]
  },
  {
   "cell_type": "code",
   "execution_count": 6,
   "metadata": {},
   "outputs": [],
   "source": [
    "def prediction_info(prediction,class_names):\n",
    "    binary = len(class_names.keys())==2\n",
    "    if binary:\n",
    "        prediction_class = 1 if prediction[0]>=0.5 else 0\n",
    "        if (prediction_class==1):\n",
    "            prob = 100 * prediction[0]\n",
    "        else:\n",
    "            prob = 100 * (1 - prediction[0])\n",
    "    else:\n",
    "        prediction_class = prediction.argmax(axis=-1)\n",
    "        prob = 100 * prediction[prediction_class]\n",
    "    prediction_name = class_names[prediction_class]\n",
    "    output = \"PREDICCIÓN: \" + prediction_name + \"  con confianza: \" + \"{:.2f}\".format(prob) + \"%\"\n",
    "    return output"
   ]
  },
  {
   "cell_type": "markdown",
   "metadata": {},
   "source": [
    "- Generate heatmap with prediction explanation"
   ]
  },
  {
   "cell_type": "code",
   "execution_count": 7,
   "metadata": {},
   "outputs": [],
   "source": [
    "def load_vis(generator, model, results, class_names):\n",
    "    generator.reset()\n",
    "    img = generator.next()[0]\n",
    "    modifier = None\n",
    "    layer_idx=-2\n",
    "    plt.figure(figsize=(16,8))\n",
    "    ax=plt.subplot(1, 2, 1)\n",
    "    ax.imshow(img) \n",
    "    ax.set_title(prediction_info(results[0], class_names))\n",
    "    ax=plt.subplot(1, 2, 2)\n",
    "    grads = visualize_cam(model, layer_idx, filter_indices=None, seed_input=img, backprop_modifier=modifier)         \n",
    "    jet_heatmap = np.uint8(cm.jet(grads)[..., :3] * 255)\n",
    "    ax.imshow(img) # I would add interpolation='none'\n",
    "    ax.imshow(jet_heatmap, alpha=0.4)"
   ]
  },
  {
   "cell_type": "markdown",
   "metadata": {},
   "source": [
    "## Sistema 2: Clasificador Multietapa\n",
    "<img src=\"./img/design2.png\" width=600px/>"
   ]
  },
  {
   "cell_type": "code",
   "execution_count": 8,
   "metadata": {},
   "outputs": [],
   "source": [
    "patients = get_patients(\"./tests\")\n",
    "patient_selection = Dropdown(options=patients, description=' - Paciente:', disabled=False)"
   ]
  },
  {
   "cell_type": "code",
   "execution_count": 9,
   "metadata": {},
   "outputs": [],
   "source": [
    "%%capture\n",
    "FIRST_CLASS_DICT = {0: \"Sana\", 1: \"Enferma\"}\n",
    "SECOND_CLASS_DICT = {0: \"DMAE\", 1: \"DR\"}\n",
    "first_model = load_model(\"./final_models/h_vs_nh/hon_10_224_vgg16_ADAM_5e-06_Block2-5\", True)\n",
    "second_model = load_model(\"./final_models/dr_vs_amd/dr_amd_7_224_resnet50_ADAM_1e-05_FC\", True)"
   ]
  },
  {
   "cell_type": "code",
   "execution_count": 10,
   "metadata": {},
   "outputs": [],
   "source": [
    "def show_results_2(patient):\n",
    "    print(\"------------------------------------------\")\n",
    "    patient_generator = load_patient(patient, \"./tests\")\n",
    "    first_predictions = load_predictions(first_model, patient_generator)\n",
    "    enferma = first_predictions[0][0]>=0.5\n",
    "    if(enferma):\n",
    "        second_predictions = load_predictions(second_model, patient_generator)\n",
    "    print(\"\\n-----------------------------------------\")\n",
    "    print(\"    Generando mapas de activación...\")\n",
    "    print(\"------------------------------------------\\n\")\n",
    "    load_vis(patient_generator, first_model, first_predictions, FIRST_CLASS_DICT)\n",
    "    if(enferma):\n",
    "        load_vis(patient_generator, second_model, second_predictions, SECOND_CLASS_DICT)"
   ]
  },
  {
   "cell_type": "code",
   "execution_count": 11,
   "metadata": {},
   "outputs": [
    {
     "name": "stdout",
     "output_type": "stream",
     "text": [
      "\n",
      "\n"
     ]
    },
    {
     "data": {
      "application/vnd.jupyter.widget-view+json": {
       "model_id": "27d69a0f02a54efe97d27349f4a3e7cd",
       "version_major": 2,
       "version_minor": 0
      },
      "text/plain": [
       "interactive(children=(Dropdown(description=' - Paciente:', options=('paciente39-dr', 'paciente1-amd', 'pacient…"
      ]
     },
     "metadata": {},
     "output_type": "display_data"
    }
   ],
   "source": [
    "print(\"\\n\")\n",
    "interact(show_results_2, patient=patient_selection);"
   ]
  },
  {
   "cell_type": "markdown",
   "metadata": {},
   "source": [
    "## Sistema 3: Ensemble de clasificadores\n",
    "<img src=\"./img/design3.png\" width=600px/>"
   ]
  },
  {
   "cell_type": "code",
   "execution_count": 30,
   "metadata": {},
   "outputs": [],
   "source": [
    "patients = get_patients(\"./tests\")\n",
    "patient_selection = Dropdown(options=patients, description='Paciente:', disabled=False)"
   ]
  },
  {
   "cell_type": "code",
   "execution_count": 68,
   "metadata": {},
   "outputs": [],
   "source": [
    "%%capture\n",
    "CLASS_DICT = {0: \"DMAE\", 1: \"DR\", 2: \"SANA\"}\n",
    "models = [\"./final_models/one-step/full_7_224_resnet50_ADAM_1e-05_FC\",\n",
    "          \"./final_models/one-step/full_8_224_inceptionv3_ADAM_1e-05_FC\",\n",
    "         \"./final_models/one-step/full_6_224_vgg16_ADAM_1e-05_FC\",]\n",
    "loaded_models =  [load_model(m,False) for m in models] "
   ]
  },
  {
   "cell_type": "code",
   "execution_count": 71,
   "metadata": {},
   "outputs": [],
   "source": [
    "def show_results(patient):\n",
    "    print(\"\\n\\n--------------------------------------\")\n",
    "    patient_generator = load_patient(patient, \"./tests\")\n",
    "    sum_predictions = [0, 0, 0]\n",
    "    print(\"\\n\")\n",
    "    for counter, model in enumerate(loaded_models):\n",
    "        print(\"-------------MODELO \" + str(counter) + \"--------------\")\n",
    "        predictions = load_predictions(model, patient_generator)\n",
    "        sum_predictions = [sum(x) for x in zip(sum_predictions, predictions)]\n",
    "        load_vis(patient_generator, model, predictions, CLASS_DICT)\n",
    "    print(\"\\n\\n\" + prediction_info(sum_predictions[0]/3, CLASS_DICT))\n",
    "    print(\"\\n\")"
   ]
  },
  {
   "cell_type": "code",
   "execution_count": 72,
   "metadata": {},
   "outputs": [
    {
     "name": "stdout",
     "output_type": "stream",
     "text": [
      "\n",
      "\n"
     ]
    },
    {
     "data": {
      "application/vnd.jupyter.widget-view+json": {
       "model_id": "0f8a443a78c14ae5826bd5472fc598a8",
       "version_major": 2,
       "version_minor": 0
      },
      "text/plain": [
       "interactive(children=(Dropdown(description=' - Paciente:', index=30, options=('paciente39-dr', 'paciente1-amd'…"
      ]
     },
     "metadata": {},
     "output_type": "display_data"
    }
   ],
   "source": [
    "print(\"\\n\")\n",
    "interact(show_results, patient=patient_selection);"
   ]
  },
  {
   "cell_type": "code",
   "execution_count": null,
   "metadata": {},
   "outputs": [],
   "source": []
  },
  {
   "cell_type": "code",
   "execution_count": null,
   "metadata": {},
   "outputs": [],
   "source": []
  }
 ],
 "metadata": {
  "kernelspec": {
   "display_name": "Python 3",
   "language": "python",
   "name": "python3"
  },
  "language_info": {
   "codemirror_mode": {
    "name": "ipython",
    "version": 3
   },
   "file_extension": ".py",
   "mimetype": "text/x-python",
   "name": "python",
   "nbconvert_exporter": "python",
   "pygments_lexer": "ipython3",
   "version": "3.7.3"
  }
 },
 "nbformat": 4,
 "nbformat_minor": 4
}
